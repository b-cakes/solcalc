{
 "cells": [
  {
   "cell_type": "code",
   "execution_count": 33,
   "metadata": {},
   "outputs": [],
   "source": [
    "import pandas as pd"
   ]
  },
  {
   "cell_type": "markdown",
   "metadata": {},
   "source": [
    "* State the Manufacturer in the mfg variable."
   ]
  },
  {
   "cell_type": "code",
   "execution_count": 34,
   "metadata": {},
   "outputs": [
    {
     "data": {
      "text/plain": "'REC'"
     },
     "execution_count": 34,
     "metadata": {},
     "output_type": "execute_result"
    }
   ],
   "source": [
    "mfg = 'REC'\n",
    "mfg"
   ]
  },
  {
   "cell_type": "markdown",
   "metadata": {},
   "source": [
    "* Enter the models into the models list."
   ]
  },
  {
   "cell_type": "code",
   "execution_count": 35,
   "metadata": {},
   "outputs": [
    {
     "data": {
      "text/plain": "0          TP4\n1          NP3\n2    AA-PURE-R\ndtype: object"
     },
     "execution_count": 35,
     "metadata": {},
     "output_type": "execute_result"
    }
   ],
   "source": [
    "models = ['TP4', 'NP3', 'AA-PURE-R']\n",
    "models_series = pd.Series(models)\n",
    "models_series"
   ]
  },
  {
   "cell_type": "markdown",
   "metadata": {},
   "source": [
    "* Enter the wattage ratings in the watt_class list.\n",
    "    - watt_class needs to be cleaned up...\n",
    "    - what if there is more than one rating in a specific model?"
   ]
  },
  {
   "cell_type": "code",
   "execution_count": 36,
   "metadata": {},
   "outputs": [
    {
     "data": {
      "text/plain": "0    365\n1    400\n2    420\ndtype: int64"
     },
     "execution_count": 36,
     "metadata": {},
     "output_type": "execute_result"
    }
   ],
   "source": [
    "watt_class = [365, 400, 420]\n",
    "watt_class_series = pd.Series(watt_class)\n",
    "watt_class_series"
   ]
  },
  {
   "cell_type": "markdown",
   "metadata": {},
   "source": [
    "* Enter the cost per watt price points in the cost_watt list.\n",
    "    - cost_watt needs to be cleaned up...\n",
    "    - what if there is more than one rating in a specific model?\n",
    "    - what if there is a different cost for each rating in a specific model?"
   ]
  },
  {
   "cell_type": "code",
   "execution_count": 37,
   "metadata": {},
   "outputs": [
    {
     "data": {
      "text/plain": "0    0.68\n1    0.71\n2    0.88\ndtype: float64"
     },
     "execution_count": 37,
     "metadata": {},
     "output_type": "execute_result"
    }
   ],
   "source": [
    "cost_watt = [0.68, 0.71, 0.88]\n",
    "cost_watt_series = pd.Series(cost_watt)\n",
    "cost_watt_series"
   ]
  },
  {
   "cell_type": "markdown",
   "metadata": {},
   "source": [
    "1. The cost_unit variable is multiplying the watt_class data and cost_watt data, then returning it into the cost_unit_series."
   ]
  },
  {
   "cell_type": "code",
   "execution_count": 38,
   "metadata": {},
   "outputs": [
    {
     "data": {
      "text/plain": "0    248.2\n1    284.0\n2    369.6\ndtype: float64"
     },
     "execution_count": 38,
     "metadata": {},
     "output_type": "execute_result"
    }
   ],
   "source": [
    "cost_unit = watt_class_series * cost_watt_series\n",
    "cost_unit_series = pd.Series(cost_unit)\n",
    "cost_unit_series"
   ]
  },
  {
   "cell_type": "markdown",
   "metadata": {},
   "source": [
    "* Create the df_data dictionary out of all the series that were previously created; then create a DataFrame table out of the df_data dictionary."
   ]
  },
  {
   "cell_type": "code",
   "execution_count": 39,
   "metadata": {},
   "outputs": [
    {
     "data": {
      "text/plain": "       Model  Rating  Cost/W  Cost/ea\n0        TP4     365    0.68    248.2\n1        NP3     400    0.71    284.0\n2  AA-PURE-R     420    0.88    369.6",
      "text/html": "<div>\n<style scoped>\n    .dataframe tbody tr th:only-of-type {\n        vertical-align: middle;\n    }\n\n    .dataframe tbody tr th {\n        vertical-align: top;\n    }\n\n    .dataframe thead th {\n        text-align: right;\n    }\n</style>\n<table border=\"1\" class=\"dataframe\">\n  <thead>\n    <tr style=\"text-align: right;\">\n      <th></th>\n      <th>Model</th>\n      <th>Rating</th>\n      <th>Cost/W</th>\n      <th>Cost/ea</th>\n    </tr>\n  </thead>\n  <tbody>\n    <tr>\n      <th>0</th>\n      <td>TP4</td>\n      <td>365</td>\n      <td>0.68</td>\n      <td>248.2</td>\n    </tr>\n    <tr>\n      <th>1</th>\n      <td>NP3</td>\n      <td>400</td>\n      <td>0.71</td>\n      <td>284.0</td>\n    </tr>\n    <tr>\n      <th>2</th>\n      <td>AA-PURE-R</td>\n      <td>420</td>\n      <td>0.88</td>\n      <td>369.6</td>\n    </tr>\n  </tbody>\n</table>\n</div>"
     },
     "execution_count": 39,
     "metadata": {},
     "output_type": "execute_result"
    }
   ],
   "source": [
    "df_data = {'Model': models_series, 'Rating': watt_class_series, 'Cost/W': cost_watt_series, 'Cost/ea': cost_unit_series}\n",
    "df_table = pd.DataFrame(df_data)\n",
    "df_table"
   ]
  },
  {
   "cell_type": "markdown",
   "metadata": {},
   "source": [
    "* Reformat the DataFrame to list the manufacturer for each row."
   ]
  },
  {
   "cell_type": "code",
   "execution_count": 40,
   "metadata": {
    "collapsed": false,
    "jupyter": {
     "outputs_hidden": false
    }
   },
   "outputs": [
    {
     "data": {
      "text/plain": "         Model  Rating  Cost/W  Cost/ea\nREC        TP4     365    0.68    248.2\nREC        NP3     400    0.71    284.0\nREC  AA-PURE-R     420    0.88    369.6",
      "text/html": "<div>\n<style scoped>\n    .dataframe tbody tr th:only-of-type {\n        vertical-align: middle;\n    }\n\n    .dataframe tbody tr th {\n        vertical-align: top;\n    }\n\n    .dataframe thead th {\n        text-align: right;\n    }\n</style>\n<table border=\"1\" class=\"dataframe\">\n  <thead>\n    <tr style=\"text-align: right;\">\n      <th></th>\n      <th>Model</th>\n      <th>Rating</th>\n      <th>Cost/W</th>\n      <th>Cost/ea</th>\n    </tr>\n  </thead>\n  <tbody>\n    <tr>\n      <th>REC</th>\n      <td>TP4</td>\n      <td>365</td>\n      <td>0.68</td>\n      <td>248.2</td>\n    </tr>\n    <tr>\n      <th>REC</th>\n      <td>NP3</td>\n      <td>400</td>\n      <td>0.71</td>\n      <td>284.0</td>\n    </tr>\n    <tr>\n      <th>REC</th>\n      <td>AA-PURE-R</td>\n      <td>420</td>\n      <td>0.88</td>\n      <td>369.6</td>\n    </tr>\n  </tbody>\n</table>\n</div>"
     },
     "execution_count": 40,
     "metadata": {},
     "output_type": "execute_result"
    }
   ],
   "source": [
    "df_table_2 = df_table.rename(index=lambda x: mfg)\n",
    "df_table_2"
   ]
  }
 ],
 "metadata": {
  "kernelspec": {
   "display_name": "Python 3 (ipykernel)",
   "language": "python",
   "name": "python3"
  },
  "language_info": {
   "codemirror_mode": {
    "name": "ipython",
    "version": 3
   },
   "file_extension": ".py",
   "mimetype": "text/x-python",
   "name": "python",
   "nbconvert_exporter": "python",
   "pygments_lexer": "ipython3",
   "version": "3.10.8"
  },
  "toc-autonumbering": false,
  "toc-showmarkdowntxt": false,
  "toc-showtags": false,
  "vscode": {
   "interpreter": {
    "hash": "aee8b7b246df8f9039afb4144a1f6fd8d2ca17a180786b69acc140d282b71a49"
   }
  },
  "widgets": {
   "application/vnd.jupyter.widget-state+json": {
    "state": {},
    "version_major": 2,
    "version_minor": 0
   }
  }
 },
 "nbformat": 4,
 "nbformat_minor": 4
}
